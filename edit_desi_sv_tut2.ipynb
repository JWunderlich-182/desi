{
 "cells": [
  {
   "cell_type": "code",
   "execution_count": 5,
   "id": "cd48bff4-c8c5-497b-8c89-bb8970137f3d",
   "metadata": {},
   "outputs": [],
   "source": [
    " #Some basic imports\n",
    "from __future__ import print_function\n",
    "#To make the plots inline otherwise it will make seperate figure\n",
    "%matplotlib inline \n",
    "#for high resolution plot outputs\n",
    "%config InlineBackend.figure_format = 'retina'\n",
    "\n",
    "import pickle\n",
    "import numpy as np\n",
    "import pylab as pl\n",
    "import fitsio as F\n",
    "import time\n",
    "\n",
    "from datetime import date\n",
    "\n",
    "import os\n",
    "import sys"
   ]
  },
  {
   "cell_type": "code",
   "execution_count": 6,
   "id": "9372aec1-3631-48e5-8377-6345f55b307e",
   "metadata": {},
   "outputs": [],
   "source": [
    "#please do not change this directory unless you know what you are doing\n",
    "main_code_dir='/global/u1/s/shadaba/Projects/SV3/CorrelationFunction/'"
   ]
  },
  {
   "cell_type": "code",
   "execution_count": 7,
   "id": "e8f432ab-7289-4e77-b127-260a3e4062c6",
   "metadata": {},
   "outputs": [],
   "source": [
    " def make_dir(dirin):\n",
    "    '''checks and creates a directory'''\n",
    "    if(not os.path.isdir(dirin)):\n",
    "        os.mkdir(dirin)\n",
    "        print('created: ',dirin)\n",
    "    else:\n",
    "        print('Already exists: ',dirin)\n",
    "        \n",
    "    return"
   ]
  },
  {
   "cell_type": "code",
   "execution_count": null,
   "id": "9b6c1f35-319a-4d16-956d-53613fad632a",
   "metadata": {},
   "outputs": [],
   "source": []
  },
  {
   "cell_type": "code",
   "execution_count": 8,
   "id": "5d1c7304-4ffe-4ff7-bc33-22bf37b97e06",
   "metadata": {},
   "outputs": [
    {
     "name": "stdout",
     "output_type": "stream",
     "text": [
      "created:  test/\n",
      "created:  slurm/\n"
     ]
    }
   ],
   "source": [
    "#xidir='path to your output directory'\n",
    "xidir='test/'\n",
    "slurmdir = 'slurm/'\n",
    "make_dir(xidir) \n",
    "make_dir(slurmdir)"
   ]
  },
  {
   "cell_type": "code",
   "execution_count": 9,
   "id": "89109fca-8c25-4d4c-8da0-80d38203ed9f",
   "metadata": {},
   "outputs": [
    {
     "name": "stdout",
     "output_type": "stream",
     "text": [
      "Already exists:  test/\n",
      "created:  test/PairCount/\n",
      "created:  test/WP/\n",
      "created:  test/XI2D/\n",
      "created:  test/XI02/\n"
     ]
    }
   ],
   "source": [
    " # This creates all the needed sub-direcotries so that code can work without hassles\n",
    "\n",
    "\n",
    "\n",
    "def setup_directory_tree(xidir):\n",
    "    '''This setups the directory tree'''\n",
    "    global pcdir, wpdir,xi2ddir,xi02dir\n",
    "    pcdir=xidir+'PairCount/'\n",
    "    wpdir=xidir+'WP/'\n",
    "    xi2ddir=xidir+'XI2D/'\n",
    "    xi02dir=xidir+'XI02/'\n",
    "    \n",
    "    for td in [xidir,pcdir, wpdir,xi2ddir,xi02dir]:\n",
    "        make_dir(td)\n",
    "\n",
    "    return\n",
    "\n",
    "setup_directory_tree(xidir)"
   ]
  },
  {
   "cell_type": "code",
   "execution_count": 10,
   "id": "c776725d-1da5-48fa-ad42-916b26b5e2a3",
   "metadata": {},
   "outputs": [],
   "source": [
    "def tracer_program(tracer):\n",
    "    if('BGS' in tracer or 'MWS' in tracer):\n",
    "        return 'BRIGHT'\n",
    "    else:\n",
    "        return 'DARK'\n",
    "    \n",
    "def get_outroot(selection='TARGET',tracer='LRG',sky='N',wtag='w1',xitype='angular'):\n",
    "    if(xitype=='angular'):\n",
    "        outroot='%s%s_%s_%s_%s'%(pcdir,tracer_key(tracer),sky,selection,wtag)\n",
    "    else:\n",
    "        outroot='%s%s_%s_%s_%s_z1z2_'%(pcdir,tracer_key(tracer),sky,selection,wtag)\n",
    "        \n",
    "    return outroot\n",
    "\n",
    "def config_file(config_dir,tracer,sky,xitype,wtag,zsel,tracer2=None):\n",
    "    if(zsel is not None):\n",
    "        ztag='_z1z2_%4.2f_%4.2f'%(zsel[0],zsel[1])\n",
    "    else:\n",
    "        ztag=''\n",
    "    \n",
    "    if(tracer2 is None):\n",
    "        outfile='%s%s_%s_%s_%s%s.ini'%(config_dir,tracer,sky,xitype,wtag,ztag)\n",
    "    else:\n",
    "        outfile='%scross%sx%s_%s_%s_%s%s.ini'%(config_dir,tracer,tracer2,sky,xitype,wtag,ztag)\n",
    "    \n",
    "    return outfile\n",
    "\n",
    "def prepare_config_file(tracer,sky,wtag='w1',xitype='angular',zsel=None,config_dir='config_desi_sv3/',\n",
    "                       tracer2=None):\n",
    "    \n",
    "    '''prepares the configuration files\n",
    "    provide tracer 2 and wtag2 if cross-correlation is needed'''\n",
    "    \n",
    "    if(zsel is not None):\n",
    "        zsel_str='z1z2 = %4.2f, %4.2f'%(zsel[0],zsel[1])\n",
    "    else:\n",
    "        zsel_str=''\n",
    "    \n",
    "    outfile=config_file(config_dir,tracer,sky,xitype,wtag,zsel,tracer2=tracer2)\n",
    "    \n",
    "    program=tracer_program(tracer)\n",
    "    with open(outfile,'w') as fout:\n",
    "        if(tracer2 is None):\n",
    "            fout.write('import_config1 = %sconfig_desi_glob/%s_global.ini\\n'%(main_code_dir,xitype))\n",
    "            fout.write('import_config2 = %sconfig_desi_glob/%s_catalog.ini\\n'%(main_code_dir,program))\n",
    "        else:\n",
    "            fout.write('import_config1 = %sconfig_desi_glob/cross%s_global.ini\\n'%(main_code_dir,xitype))\n",
    "            fout.write('import_config2 = %sconfig_desi_glob/cross%s_catalog.ini\\n'%(main_code_dir,program))\n",
    "\n",
    "        fout.write(zsel_str)\n",
    "            \n",
    "        fout.write('\\n\\noutdir = %s\\n\\n'%(xidir))\n",
    "        \n",
    "        fout.write('\\n\\n#parameters for the this catalogue\\n')\n",
    "        fout.write('[sv3_desi]\\n')\n",
    "        fout.write('PROGRAM = %s\\n'%program)\n",
    "        fout.write('tracer = %s\\n'%tracer)\n",
    "        fout.write('sky = %s\\n'%sky)\n",
    "        fout.write('#This decides the weighting w1 is unit weight wsys is sys weight\\n')\n",
    "        fout.write('wtag = %s\\n'%wtag)\n",
    "        \n",
    "        if(tracer2 is not None):\n",
    "            fout.write('\\n\\n#parameters for the second catalogue\\n')\n",
    "            fout.write('[sv3_desi2]\\n')\n",
    "            fout.write('PROGRAM = %s\\n'%program)\n",
    "            fout.write('tracer = %s\\n'%tracer2)\n",
    "            fout.write('sky = %s\\n'%sky)\n",
    "            fout.write('#This decides the weighting w1 is unit weight wsys is sys weight\\n')\n",
    "            fout.write('wtag = %s\\n'%wtag)   \n",
    "               \n",
    "    return outfile\n"
   ]
  },
  {
   "cell_type": "code",
   "execution_count": 11,
   "id": "9f2338cc-2d49-4b0b-91c6-95d666aa11ca",
   "metadata": {},
   "outputs": [
    {
     "name": "stdout",
     "output_type": "stream",
     "text": [
      "created:  tmp_config_desi_sv3/\n"
     ]
    }
   ],
   "source": [
    "config_dir='tmp_config_desi_sv3/'\n",
    "make_dir(config_dir)"
   ]
  },
  {
   "cell_type": "code",
   "execution_count": 12,
   "id": "34b27920-4bbe-4490-b303-2b5cd0fd15e3",
   "metadata": {},
   "outputs": [],
   "source": [
    "def slurm_script_shared(outfile,comm,ncpu=4,time=None):\n",
    "    with open(outfile,'w') as fout:\n",
    "        fout.write('#!/bin/bash\\n')\n",
    "        fout.write('#SBATCH --qos=shared\\n')\n",
    "        fout.write('#SBATCH --constraint=haswell\\n')\n",
    "        if(time is None):\n",
    "            time='01:00:00'\n",
    "            \n",
    "        fout.write('#SBATCH --time=%s\\n'%time)\n",
    "        \n",
    "        fout.write('#SBATCH --nodes=1\\n')\n",
    "        fout.write('#SBATCH --ntasks=1\\n')\n",
    "        fout.write('#SBATCH --cpus-per-task=%s\\n'%ncpu)\n",
    "        \n",
    "        fout.write('\\nsource /project/projectdirs/desi/software/desi_environment.sh master \\n')\n",
    "        \n",
    "        for tcomm in comm:\n",
    "            fout.write('srun --cpu-bind=cores %s \\n'%tcomm)\n",
    "        \n",
    "    print('sbatch %s'%outfile)\n",
    "    \n",
    "    return"
   ]
  },
  {
   "cell_type": "code",
   "execution_count": null,
   "id": "ffa39d1c-b158-4665-8272-6ce590fc8ef5",
   "metadata": {},
   "outputs": [],
   "source": [
    "## run this cell to enter a job que\n",
    "os.system('salloc -N 1 -C haswell -t 00:30:00 --ntasks 1 --cpus-per-task=8 --qos shared --account desi')\n",
    "\n",
    "# wait for the job to be allocated if it takes too long then change --qos shared to --qos debug\n"
   ]
  },
  {
   "cell_type": "code",
   "execution_count": null,
   "id": "ed82da21-c88f-42c9-b526-8c55e5c324dd",
   "metadata": {},
   "outputs": [],
   "source": [
    "## run this once \n",
    "os.system('source /global/cfs/cdirs/desi/software/desi_environment.sh master')"
   ]
  },
  {
   "cell_type": "code",
   "execution_count": null,
   "id": "ea95aa2d-0af1-471e-9752-e69236d9404b",
   "metadata": {},
   "outputs": [],
   "source": [
    "def get_redshift_plots(zsel,tracer,sky,xitype):\n",
    "    \n",
    "    conf_list = []\n",
    "    \n",
    "    for x in xitype:\n",
    "\n",
    "        for i in zsel:\n",
    "            \n",
    "            conf_t = prepare_config_file(tracer,sky,wtag='wcompEdWsys',xitype=x,zsel=i,config_dir=config_dir,tracer2=None)\n",
    "\n",
    "\n",
    "\n",
    "            if (not os.path.isfile(xi2ddir+f'{tracer}_{sky}_CLUSTERING_wcompEdWsys_z1z2_{i[0]}-{i[1]}-wp-logrp-pi-NJN-120.txt')):\n",
    "\n",
    "                comm2='python %sRunme_Correlation.py -config_file %s -selection CLUSTERING'%(main_code_dir,conf_t)\n",
    "\n",
    "                conf_list.append(conf_t)\n",
    "\n",
    "                os.system(comm2)\n",
    "\n",
    "\n",
    "            if x == 'wp':\n",
    "                file = wpdir+f'{tracer}_{sky}_CLUSTERING_wcompEdWsys_z1z2_{i[0]}-{i[1]}-wp-logrp-pi-NJN-120.txt'\n",
    "\n",
    "                data = np.loadtxt(file)\n",
    "                \n",
    "                pl.figure()\n",
    "\n",
    "                pl.errorbar(data[:,0],data[:,1],data[:,2],fmt='o',mfc='w',label=f'{x}, z = {i[0]}-{i[1]}')\n",
    "\n",
    "            elif x == 'xi02':\n",
    "                file1 = xi02dir+f'{tracer}_{sky}_CLUSTERING_wcompEdWsys_z1z2_{i[0]}-{i[1]}-xi0-rmu-NJN-120.txt'\n",
    "                file2 = xi02dir+f'{tracer}_{sky}_CLUSTERING_wcompEdWsys_z1z2_{i[0]}-{i[1]}-xi2-rmu-NJN-120.txt' \n",
    "\n",
    "                data1 = np.loadtxt(file1)\n",
    "                data2 = np.loadtxt(file2)\n",
    "                \n",
    "                pl.figure()\n",
    "\n",
    "                pl.errorbar(data1[:,0],data1[:,1],data1[:,2],fmt='o',mfc='w',label=f'xi0, z = {i[0]}-{i[1]}')\n",
    "                pl.errorbar(data2[:,0],data2[:,1],data2[:,2],fmt='o',mfc='w',label=f'xi2, z = {i[0]}-{i[1]}')\n",
    "\n",
    "            elif x == 'xiwedge':\n",
    "                file3 = xi2ddir+f'Wedge{tracer}_{sky}_CLUSTERING_wcompEdWsys_z1z2_{i[0]}-{i[1]}-logrmu-NJN-120.txt'\n",
    "\n",
    "                data3 = np.loadtxt(file3)\n",
    "\n",
    "                pl.errorbar(data3[:,0],data3[:,1],data3[:,2],fmt='o',mfc='w',label=f'{x}, z = {i[0]}-{i[1]}')\n",
    "        \n",
    "    pl.xscale('log')\n",
    "    pl.yscale('log')\n",
    "\n",
    "    pl.title(f'{tracer} Multiple Redshifts,{zsel}')\n",
    "    pl.xlabel(r'$r_\\bot$ (Mpc/h)',fontsize=22)\n",
    "    pl.ylabel(r'$w_p$',fontsize=22)\n",
    "    pl.legend()\n",
    "    \n",
    "    os.system('mv *.sh slurm/')\n",
    "    \n",
    "    return"
   ]
  },
  {
   "cell_type": "code",
   "execution_count": null,
   "id": "9c57aa8f-a212-4fed-976e-fd0f882d073b",
   "metadata": {},
   "outputs": [],
   "source": []
  },
  {
   "cell_type": "code",
   "execution_count": null,
   "id": "05be6726-cf09-4f52-ad10-12724153ee21",
   "metadata": {},
   "outputs": [],
   "source": [
    "tracer='LRG'       #you can choose from LRG, ELG, QSO, BGS_ANY\n",
    "sky='N'            #you can choose from N, S for north and South\n",
    "xitype = 'wp','xi02'        #What statistic, you can choose from wp,xi02,xiwedge\n",
    "zrange = [0.3,0.5],[0.6,0.8]"
   ]
  },
  {
   "cell_type": "code",
   "execution_count": null,
   "id": "36042434-dbeb-4297-86df-d0812cd82cfe",
   "metadata": {},
   "outputs": [],
   "source": [
    "get_redshift_plots(zrange,tracer,sky,xitype)"
   ]
  },
  {
   "cell_type": "code",
   "execution_count": null,
   "id": "10174766-2afb-4074-b1d4-416c63b90cd6",
   "metadata": {},
   "outputs": [],
   "source": []
  }
 ],
 "metadata": {
  "kernelspec": {
   "display_name": "DESI master",
   "language": "python",
   "name": "desi-master"
  },
  "language_info": {
   "codemirror_mode": {
    "name": "ipython",
    "version": 3
   },
   "file_extension": ".py",
   "mimetype": "text/x-python",
   "name": "python",
   "nbconvert_exporter": "python",
   "pygments_lexer": "ipython3",
   "version": "3.8.3"
  }
 },
 "nbformat": 4,
 "nbformat_minor": 5
}
